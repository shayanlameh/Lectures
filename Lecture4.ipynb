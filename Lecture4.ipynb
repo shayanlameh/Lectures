{
 "cells": [
  {
   "cell_type": "markdown",
   "metadata": {},
   "source": [
    "# Lecture 4, Developing a physical model \n",
    "\n",
    "\n",
    "**Overview:**\n",
    "* Drag in one dimension.\n",
    "* Running python code.\n",
    "* More object oriented programing in Python, developing our \"Particle.py\" class.\n",
    "*  Moving code out of the Jupyter Notebook to make it reusable. The `run` statement and simple imports.\n",
    "\n",
    "**Next Lecture:** Non-linear oscillations and chaos."
   ]
  },
  {
   "cell_type": "code",
   "execution_count": 1,
   "metadata": {},
   "outputs": [
    {
     "name": "stdout",
     "output_type": "stream",
     "text": [
      "hello\n"
     ]
    }
   ],
   "source": [
    "run Test.ipynb"
   ]
  },
  {
   "cell_type": "code",
   "execution_count": 2,
   "metadata": {},
   "outputs": [
    {
     "name": "stdout",
     "output_type": "stream",
     "text": [
      "\u001b[0m\u001b[01;34mfigs\u001b[0m/           Lecture3.ipynb  Particle1D.py  Test.ipynb\n",
      "HW1CPH.ipynb    Lecture4.ipynb  Particle.py    Untitled.ipynb\n",
      "Lecture2.ipynb  Lecture5.ipynb  README.md\n"
     ]
    }
   ],
   "source": [
    "ls"
   ]
  },
  {
   "cell_type": "code",
   "execution_count": 2,
   "metadata": {},
   "outputs": [
    {
     "ename": "ModuleNotFoundError",
     "evalue": "No module named 'Test'",
     "output_type": "error",
     "traceback": [
      "\u001b[0;31m---------------------------------------------------------------------------\u001b[0m",
      "\u001b[0;31mModuleNotFoundError\u001b[0m                       Traceback (most recent call last)",
      "\u001b[0;32m<ipython-input-2-44c6c05fe031>\u001b[0m in \u001b[0;36m<module>\u001b[0;34m\u001b[0m\n\u001b[0;32m----> 1\u001b[0;31m \u001b[0;32mimport\u001b[0m \u001b[0mTest\u001b[0m\u001b[0;34m.\u001b[0m\u001b[0mipynb\u001b[0m\u001b[0;34m\u001b[0m\u001b[0;34m\u001b[0m\u001b[0m\n\u001b[0m",
      "\u001b[0;31mModuleNotFoundError\u001b[0m: No module named 'Test'"
     ]
    }
   ],
   "source": []
  },
  {
   "cell_type": "markdown",
   "metadata": {},
   "source": [
    "## Tasks \n",
    "### Importing and running code\n",
    "\n",
    "1. In your current working directory, create a new text file called \"Test.py\". Open \"Test.py\" in a text editor, define a simple string inside the file, and type the command to print that string i.e.\n",
    "        \n",
    "        word = \"hello\"\n",
    "        print(word)\n",
    "        \n",
    "  save the file.\n",
    "\n",
    "\n",
    "2. Now in this Jupyter Notebook, enter the command `run Test.py`. In another cell, check if you have access to the variable named `word`? *Note that you must have the Jupyter notebook open in the same directory where \"Test.py\" is saved. To check, type* `ls` *in a notebook code cell, you should see an output of the current working directory listing and \"Test.py\" should be listed here.*\n",
    "\n",
    "\n",
    "3. Now restart the Kernel and try `import Test` in another cell of the notebook. Do you have access to the variable `word` from this import? Try the 'dot' notation i.e. type `Test.` and then use the Tab key to see available completions. \n",
    "\n",
    "\n",
    "5. Finally, open \"Test.py\" in your text editor and change the string in the variable `word` to something different. Try `run Test.py` and `import Test` again. What do you notice?\n",
    "\n",
    "\n",
    "6. Write a simple python function in the file \"test.py\" and save the file. Example function:\n",
    "        \n",
    "        def factorial(x):\n",
    "           f = x\n",
    "           for ii in reversed(range(x)[1:]):\n",
    "               f = f*ii\n",
    "           return f\n",
    "    \n",
    "    \n",
    "7. From the Jupyter notebook menu, click 'Kernel' ->  'Restart & Clear Output'. \n",
    "\n",
    "\n",
    "8. In the Jupyter notebook, run `Import Test`, again.  Can you access and use your function? (Use the dot notation)\n",
    "\n",
    "\n",
    "9. Try the command `run Test.py` again. Can you access and use your function? \n",
    "\n",
    "\n",
    "10. Think about when you might want to use `import` and when you might want to use `run` for your own code. \n",
    "           \n",
    "           \n",
    "11. Import the `sys` module and print the attribute `sys.path`. What do you think is the meaning of this variable ? For detailed explanations, read the help file.\n",
    "\n",
    "\n",
    "### Particle Object\n",
    "1. Extend particle class and all subclasses to 3-Dimensions (use numpy arrays).\n",
    "\n",
    "\n",
    "2. Try writing a class for an electric charge in $\\vec{E}$ and $\\vec{B}$ fields. $\\vec{F} = q(\\vec{E} + \\vec{v}\\times \\vec{B})$.\n",
    "\n",
    "\n",
    "3. Import your class into this work book and use it to explore the dynamics of an electric charge $\\vec{E}$ and $\\vec{B}$ fields."
   ]
  },
  {
   "cell_type": "code",
   "execution_count": 3,
   "metadata": {},
   "outputs": [],
   "source": [
    " def factorial(x):\n",
    "    f = x\n",
    "    for ii in reversed(range(x)[1:]):\n",
    "        f = f*ii\n",
    "    return f"
   ]
  },
  {
   "cell_type": "code",
   "execution_count": 4,
   "metadata": {},
   "outputs": [
    {
     "data": {
      "text/plain": [
       "120"
      ]
     },
     "execution_count": 4,
     "metadata": {},
     "output_type": "execute_result"
    }
   ],
   "source": [
    "factorial(5)"
   ]
  },
  {
   "cell_type": "code",
   "execution_count": null,
   "metadata": {},
   "outputs": [],
   "source": []
  },
  {
   "cell_type": "code",
   "execution_count": null,
   "metadata": {},
   "outputs": [],
   "source": []
  },
  {
   "cell_type": "code",
   "execution_count": null,
   "metadata": {},
   "outputs": [],
   "source": []
  }
 ],
 "metadata": {
  "kernelspec": {
   "display_name": "Python 3",
   "language": "python",
   "name": "python3"
  },
  "language_info": {
   "codemirror_mode": {
    "name": "ipython",
    "version": 3
   },
   "file_extension": ".py",
   "mimetype": "text/x-python",
   "name": "python",
   "nbconvert_exporter": "python",
   "pygments_lexer": "ipython3",
   "version": "3.6.7"
  }
 },
 "nbformat": 4,
 "nbformat_minor": 2
}

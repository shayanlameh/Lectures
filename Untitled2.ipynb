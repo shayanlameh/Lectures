{
 "cells": [
  {
   "cell_type": "code",
   "execution_count": 63,
   "metadata": {},
   "outputs": [],
   "source": [
    "from scipy.integrate import odeint\n",
    "import matplotlib.pyplot as plt\n",
    "import numpy as np\n",
    "\n",
    "class Particle (object):\n",
    "    m = 1.0\n",
    "    def __init__(self, y0=0, v0=10,  tf = 10.0, dt = 0.01):\n",
    "        self.y = y0\n",
    "        self.v = v0\n",
    "        self.t = 0.0\n",
    "        self.tf = tf\n",
    "        self.dt = dt\n",
    "        npoints = int(tf/dt)\n",
    "        self.tlabel = 'time (s)'\n",
    "        self.ylabel = 'y (m)'\n",
    "        self.vlabel = 'v (m/s)'\n",
    "        self.npoints = npoints\n",
    "        self.tarray = np.linspace(0.0, tf,npoints, endpoint = True)\n",
    "        self.yv0 = np.array([self.y, self.v]) # NumPy array with initial position and velocity\n",
    "    def scipy_trajectory(self):\n",
    "        self.yv = odeint(self.derivative, self.yv0, self.tarray) \n",
    "        self.y = self.yv[:,0]\n",
    "        self.v = self.yv[:,1]\n",
    "    def derivative(self, yv, t):\n",
    "        \"\"\"right hand side of the differential equation\"\"\"\n",
    "        y =yv[0]\n",
    "        v =yv[1]\n",
    "        a = self.F(y, v, t) / self.m\n",
    "        return np.ravel(np.array([v, a]))  \n",
    "    def F(self, y, v, t):\n",
    "        # The force on a free particle is 0\n",
    "        return np.array([10.0])\n",
    "        print(y)     "
   ]
  },
  {
   "cell_type": "code",
   "execution_count": 64,
   "metadata": {},
   "outputs": [],
   "source": [
    "myparticle = Particle()\n",
    "\n",
    "myparticle.scipy_trajectory()"
   ]
  },
  {
   "cell_type": "code",
   "execution_count": 65,
   "metadata": {},
   "outputs": [
    {
     "name": "stdout",
     "output_type": "stream",
     "text": [
      "[[  0.00000000e+00   1.00000000e+01]\n",
      " [  1.00601102e-01   1.01001001e+01]\n",
      " [  2.02204206e-01   1.02002002e+01]\n",
      " ..., \n",
      " [  5.97799802e+02   1.09799800e+02]\n",
      " [  5.98899400e+02   1.09899900e+02]\n",
      " [  6.00000000e+02   1.10000000e+02]]\n"
     ]
    },
    {
     "data": {
      "text/plain": [
       "[<matplotlib.lines.Line2D at 0x7f731de8af60>]"
      ]
     },
     "execution_count": 65,
     "metadata": {},
     "output_type": "execute_result"
    },
    {
     "data": {
      "image/png": "[encoded data removed]",
      "text/plain": [
       "<Figure size 432x288 with 1 Axes>"
      ]
     },
     "metadata": {
      "needs_background": "light"
     },
     "output_type": "display_data"
    }
   ],
   "source": [
    "print(myparticle.yv)\n",
    "plt.plot(myparticle.tarray, myparticle.y)"
   ]
  },
  {
   "cell_type": "code",
   "execution_count": null,
   "metadata": {},
   "outputs": [],
   "source": []
  },
  {
   "cell_type": "code",
   "execution_count": null,
   "metadata": {},
   "outputs": [],
   "source": []
  }
 ],
 "metadata": {
  "kernelspec": {
   "display_name": "Python 3",
   "language": "python",
   "name": "python3"
  },
  "language_info": {
   "codemirror_mode": {
    "name": "ipython",
    "version": 3
   },
   "file_extension": ".py",
   "mimetype": "text/x-python",
   "name": "python",
   "nbconvert_exporter": "python",
   "pygments_lexer": "ipython3",
   "version": "3.6.7"
  }
 },
 "nbformat": 4,
 "nbformat_minor": 2
}

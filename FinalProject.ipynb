{
 "cells": [
  {
   "cell_type": "markdown",
   "metadata": {},
   "source": [
    "Predicting how a simple oscillator moves in response to applied forces including frictional and restoring forces. \n",
    "\n",
    "\n",
    "x(t) is displacement of the object as a function of time t.\n",
    "\n",
    "$\\mu^\" = F(t) - f(x) - s(x)$\n",
    "\n",
    "\n",
    "\n",
    "Where m is the mass of the system, f(x) is a force of friction causing the damping and s(u) represents the spring force and F(t) is some external forces on this object."
   ]
  },
  {
   "cell_type": "code",
   "execution_count": null,
   "metadata": {},
   "outputs": [],
   "source": [
    "from numpy import *\n",
    "def solver_linear_damping(I, V, m, b, s, F, t):\n",
    "    N = t.size - 1 # No of time intervals\n",
    "    dt = t[1] - t[0] # Time step\n",
    "    u = zeros(N+1) # Result array\n",
    "    u[0] = I\n",
    "    u[1] = u[0] + dt*V + dt**2/(2*m)*(-b*V - s(u[0]) + F[0])\n",
    "    for n in range(1,N):\n",
    "        u[n+1] = 1./(m + b*dt/2)*(2*m*u[n] + \\\n",
    "        (b*dt/2 - m)*u[n-1] + dt**2*(F[n] - s(u[n])))\n",
    "    return u"
   ]
  },
  {
   "cell_type": "code",
   "execution_count": null,
   "metadata": {},
   "outputs": [],
   "source": []
  }
 ],
 "metadata": {
  "kernelspec": {
   "display_name": "Python 3",
   "language": "python",
   "name": "python3"
  },
  "language_info": {
   "codemirror_mode": {
    "name": "ipython",
    "version": 3
   },
   "file_extension": ".py",
   "mimetype": "text/x-python",
   "name": "python",
   "nbconvert_exporter": "python",
   "pygments_lexer": "ipython3",
   "version": "3.6.7"
  }
 },
 "nbformat": 4,
 "nbformat_minor": 2
}
